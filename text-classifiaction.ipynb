{
 "cells": [
  {
   "cell_type": "markdown",
   "metadata": {
    "id": "MLX-VYJTsToq"
   },
   "source": [
    "**First data set**"
   ]
  },
  {
   "cell_type": "code",
   "execution_count": 1,
   "metadata": {
    "id": "AprEaomW0J15"
   },
   "outputs": [],
   "source": [
    "from sklearn.datasets import fetch_20newsgroups\n",
    "import numpy as np\n",
    "import pandas as pd\n",
    "from IPython.core.debugger import set_trace\n",
    "from scipy.stats import mode\n",
    "import matplotlib.pyplot as plt\n",
    "from sklearn.pipeline import Pipeline\n",
    "from sklearn.linear_model import LogisticRegression\n",
    "from sklearn.neighbors import KNeighborsClassifier\n",
    "from sklearn.neighbors import KNeighborsClassifier\n",
    "from sklearn.naive_bayes import MultinomialNB\n",
    "from sklearn.naive_bayes import GaussianNB\n",
    "from sklearn.model_selection import GridSearchCV\n",
    "from numpy.core.fromnumeric import size"
   ]
  },
  {
   "cell_type": "code",
   "execution_count": 2,
   "metadata": {
    "id": "M5Oz1PIU0EA-"
   },
   "outputs": [],
   "source": [
    "twenty_train = fetch_20newsgroups(subset='train', shuffle=True, random_state=42)\n"
   ]
  },
  {
   "cell_type": "code",
   "execution_count": 3,
   "metadata": {
    "colab": {
     "base_uri": "https://localhost:8080/"
    },
    "id": "OqONAjlo0jhn",
    "outputId": "58f1cefa-466b-4721-e35b-e81b4d5c1fe1"
   },
   "outputs": [
    {
     "data": {
      "text/plain": [
       "11314"
      ]
     },
     "execution_count": 3,
     "metadata": {},
     "output_type": "execute_result"
    }
   ],
   "source": [
    "# Finding frequency of each category\n",
    "targets, frequency = np.unique(twenty_train.target, return_counts=True)\n",
    "targets, frequency \n",
    "sum(frequency)"
   ]
  },
  {
   "cell_type": "code",
   "execution_count": 4,
   "metadata": {
    "colab": {
     "base_uri": "https://localhost:8080/"
    },
    "id": "b8ngXQ7k8iTD",
    "outputId": "dd8f7ded-9d24-4ee3-df59-7ddd5236c695"
   },
   "outputs": [
    {
     "name": "stdout",
     "output_type": "stream",
     "text": [
      "[('alt.atheism', 480), ('comp.graphics', 584), ('comp.os.ms-windows.misc', 591), ('comp.sys.ibm.pc.hardware', 590), ('comp.sys.mac.hardware', 578), ('comp.windows.x', 593), ('misc.forsale', 585), ('rec.autos', 594), ('rec.motorcycles', 598), ('rec.sport.baseball', 597), ('rec.sport.hockey', 600), ('sci.crypt', 595), ('sci.electronics', 591), ('sci.med', 594), ('sci.space', 593), ('soc.religion.christian', 599), ('talk.politics.guns', 546), ('talk.politics.mideast', 564), ('talk.politics.misc', 465), ('talk.religion.misc', 377)]\n"
     ]
    }
   ],
   "source": [
    "targets_str = np.array(twenty_train.target_names)\n",
    "print(list(zip(targets_str, frequency)))"
   ]
  },
  {
   "cell_type": "code",
   "execution_count": 5,
   "metadata": {
    "colab": {
     "base_uri": "https://localhost:8080/",
     "height": 420
    },
    "id": "p1p64-u_8Wqb",
    "outputId": "89d0a124-f614-48f6-f5a7-4370aede6cf5"
   },
   "outputs": [
    {
     "data": {
      "image/png": "[encoded data removed]",
      "text/plain": [
       "<Figure size 432x288 with 1 Axes>"
      ]
     },
     "metadata": {
      "needs_background": "light"
     },
     "output_type": "display_data"
    }
   ],
   "source": [
    "# Training data class distribution\n",
    "fig=plt.figure( )\n",
    "plt.bar(targets_str,frequency)\n",
    "plt.xticks(rotation=90)\n",
    "plt.title('Class distribution of 20 Newsgroups Training Data')\n",
    "plt.xlabel('News Group')\n",
    "plt.ylabel('Frequency')\n",
    "plt.show()"
   ]
  },
  {
   "cell_type": "markdown",
   "metadata": {
    "id": "OUQe66Ew-zJ2"
   },
   "source": [
    "**Data cleaning:**\n",
    "\n",
    "First we make data farame and then we start cleaning the data. \n",
    "\n",
    "data cleaning process: Tokenization, Convert everything to lowercase, Removing stopwords, Stemming, Lemmatizing, and converting text data to a vector representation\n",
    "\n"
   ]
  },
  {
   "cell_type": "code",
   "execution_count": 6,
   "metadata": {
    "colab": {
     "base_uri": "https://localhost:8080/",
     "height": 206
    },
    "id": "rSQERG3o-njW",
    "outputId": "a1893e37-1c7b-413b-f3ac-857b2070b07d"
   },
   "outputs": [
    {
     "data": {
      "text/html": [
       "<div>\n",
       "<style scoped>\n",
       "    .dataframe tbody tr th:only-of-type {\n",
       "        vertical-align: middle;\n",
       "    }\n",
       "\n",
       "    .dataframe tbody tr th {\n",
       "        vertical-align: top;\n",
       "    }\n",
       "\n",
       "    .dataframe thead th {\n",
       "        text-align: right;\n",
       "    }\n",
       "</style>\n",
       "<table border=\"1\" class=\"dataframe\">\n",
       "  <thead>\n",
       "    <tr style=\"text-align: right;\">\n",
       "      <th></th>\n",
       "      <th>data</th>\n",
       "      <th>target</th>\n",
       "    </tr>\n",
       "  </thead>\n",
       "  <tbody>\n",
       "    <tr>\n",
       "      <th>0</th>\n",
       "      <td>From: lerxst@wam.umd.edu (where's my thing)\\nS...</td>\n",
       "      <td>7</td>\n",
       "    </tr>\n",
       "    <tr>\n",
       "      <th>1</th>\n",
       "      <td>From: guykuo@carson.u.washington.edu (Guy Kuo)...</td>\n",
       "      <td>4</td>\n",
       "    </tr>\n",
       "    <tr>\n",
       "      <th>2</th>\n",
       "      <td>From: twillis@ec.ecn.purdue.edu (Thomas E Will...</td>\n",
       "      <td>4</td>\n",
       "    </tr>\n",
       "    <tr>\n",
       "      <th>3</th>\n",
       "      <td>From: jgreen@amber (Joe Green)\\nSubject: Re: W...</td>\n",
       "      <td>1</td>\n",
       "    </tr>\n",
       "    <tr>\n",
       "      <th>4</th>\n",
       "      <td>From: jcm@head-cfa.harvard.edu (Jonathan McDow...</td>\n",
       "      <td>14</td>\n",
       "    </tr>\n",
       "  </tbody>\n",
       "</table>\n",
       "</div>"
      ],
      "text/plain": [
       "                                                data  target\n",
       "0  From: lerxst@wam.umd.edu (where's my thing)\\nS...       7\n",
       "1  From: guykuo@carson.u.washington.edu (Guy Kuo)...       4\n",
       "2  From: twillis@ec.ecn.purdue.edu (Thomas E Will...       4\n",
       "3  From: jgreen@amber (Joe Green)\\nSubject: Re: W...       1\n",
       "4  From: jcm@head-cfa.harvard.edu (Jonathan McDow...      14"
      ]
     },
     "execution_count": 6,
     "metadata": {},
     "output_type": "execute_result"
    }
   ],
   "source": [
    "twenty_train_df = pd.DataFrame({'data': twenty_train.data, 'target': twenty_train.target})\n",
    "twenty_train_df.head()"
   ]
  },
  {
   "cell_type": "code",
   "execution_count": 7,
   "metadata": {
    "colab": {
     "base_uri": "https://localhost:8080/",
     "height": 206
    },
    "id": "rWodIzi0CD1-",
    "outputId": "824e3a28-601d-474d-a39e-1622db86d051"
   },
   "outputs": [
    {
     "data": {
      "text/html": [
       "<div>\n",
       "<style scoped>\n",
       "    .dataframe tbody tr th:only-of-type {\n",
       "        vertical-align: middle;\n",
       "    }\n",
       "\n",
       "    .dataframe tbody tr th {\n",
       "        vertical-align: top;\n",
       "    }\n",
       "\n",
       "    .dataframe thead th {\n",
       "        text-align: right;\n",
       "    }\n",
       "</style>\n",
       "<table border=\"1\" class=\"dataframe\">\n",
       "  <thead>\n",
       "    <tr style=\"text-align: right;\">\n",
       "      <th></th>\n",
       "      <th>data</th>\n",
       "      <th>target</th>\n",
       "    </tr>\n",
       "  </thead>\n",
       "  <tbody>\n",
       "    <tr>\n",
       "      <th>0</th>\n",
       "      <td>from  lerxst wam umd edu  where s my thing \\ns...</td>\n",
       "      <td>7</td>\n",
       "    </tr>\n",
       "    <tr>\n",
       "      <th>1</th>\n",
       "      <td>from  guykuo carson u washington edu  guy kuo ...</td>\n",
       "      <td>4</td>\n",
       "    </tr>\n",
       "    <tr>\n",
       "      <th>2</th>\n",
       "      <td>from  twillis ec ecn purdue edu  thomas e will...</td>\n",
       "      <td>4</td>\n",
       "    </tr>\n",
       "    <tr>\n",
       "      <th>3</th>\n",
       "      <td>from  jgreen amber  joe green \\nsubject  re  w...</td>\n",
       "      <td>1</td>\n",
       "    </tr>\n",
       "    <tr>\n",
       "      <th>4</th>\n",
       "      <td>from  jcm head cfa harvard edu  jonathan mcdow...</td>\n",
       "      <td>14</td>\n",
       "    </tr>\n",
       "  </tbody>\n",
       "</table>\n",
       "</div>"
      ],
      "text/plain": [
       "                                                data  target\n",
       "0  from  lerxst wam umd edu  where s my thing \\ns...       7\n",
       "1  from  guykuo carson u washington edu  guy kuo ...       4\n",
       "2  from  twillis ec ecn purdue edu  thomas e will...       4\n",
       "3  from  jgreen amber  joe green \\nsubject  re  w...       1\n",
       "4  from  jcm head cfa harvard edu  jonathan mcdow...      14"
      ]
     },
     "execution_count": 7,
     "metadata": {},
     "output_type": "execute_result"
    }
   ],
   "source": [
    "# Text preprocessing steps - remove numbers, captial letters and punctuation\n",
    "import re\n",
    "import string\n",
    "\n",
    "alphanumeric = lambda x: re.sub(r\"\"\"\\w*\\d\\w*\"\"\", ' ', x)\n",
    "punc_lower = lambda x: re.sub('[%s]' % re.escape(string.punctuation), ' ', x.lower())\n",
    "\n",
    "twenty_train_df['data'] = twenty_train_df.data.map(alphanumeric).map(punc_lower)\n",
    "twenty_train_df.head()"
   ]
  },
  {
   "cell_type": "markdown",
   "metadata": {
    "id": "4bnhUW4uDLp8"
   },
   "source": [
    "**Test data**\n",
    "\n",
    "load and cleaning"
   ]
  },
  {
   "cell_type": "code",
   "execution_count": 8,
   "metadata": {
    "id": "OFLIprG4CbhJ"
   },
   "outputs": [],
   "source": [
    "twenty_test = fetch_20newsgroups(subset='test', remove = ('headers', 'footers', 'quotes'))"
   ]
  },
  {
   "cell_type": "code",
   "execution_count": 9,
   "metadata": {
    "colab": {
     "base_uri": "https://localhost:8080/"
    },
    "id": "NRL83ntx_5yX",
    "outputId": "6a3d77ee-280e-4957-a813-61306a460e2e"
   },
   "outputs": [
    {
     "data": {
      "text/plain": [
       "7532"
      ]
     },
     "execution_count": 9,
     "metadata": {},
     "output_type": "execute_result"
    }
   ],
   "source": [
    "# Finding frequency of each category\n",
    "targets_test, frequency_test = np.unique(twenty_test.target, return_counts=True)\n",
    "targets_test, frequency_test\n",
    "sum(frequency_test)"
   ]
  },
  {
   "cell_type": "code",
   "execution_count": 10,
   "metadata": {
    "colab": {
     "base_uri": "https://localhost:8080/"
    },
    "id": "3gGbuz7FtTKJ",
    "outputId": "1f30e2ef-9ee1-4bd9-cdbe-2fcef2770cc6"
   },
   "outputs": [
    {
     "name": "stdout",
     "output_type": "stream",
     "text": [
      "[('alt.atheism', 480), ('comp.graphics', 584), ('comp.os.ms-windows.misc', 591), ('comp.sys.ibm.pc.hardware', 590), ('comp.sys.mac.hardware', 578), ('comp.windows.x', 593), ('misc.forsale', 585), ('rec.autos', 594), ('rec.motorcycles', 598), ('rec.sport.baseball', 597), ('rec.sport.hockey', 600), ('sci.crypt', 595), ('sci.electronics', 591), ('sci.med', 594), ('sci.space', 593), ('soc.religion.christian', 599), ('talk.politics.guns', 546), ('talk.politics.mideast', 564), ('talk.politics.misc', 465), ('talk.religion.misc', 377)]\n"
     ]
    }
   ],
   "source": [
    "targets_str2 = np.array(twenty_test.target_names)\n",
    "print(list(zip(targets_str, frequency)))"
   ]
  },
  {
   "cell_type": "code",
   "execution_count": 11,
   "metadata": {
    "colab": {
     "base_uri": "https://localhost:8080/",
     "height": 420
    },
    "id": "hoU2ky3CtK6K",
    "outputId": "31548f7c-7451-4750-f25b-e98998cbb8e3"
   },
   "outputs": [
    {
     "data": {
      "image/png": "[encoded data removed]",
      "text/plain": [
       "<Figure size 432x288 with 1 Axes>"
      ]
     },
     "metadata": {
      "needs_background": "light"
     },
     "output_type": "display_data"
    }
   ],
   "source": [
    "# Training data class distribution\n",
    "fig=plt.figure( )\n",
    "plt.bar(targets_str2,frequency_test)\n",
    "plt.xticks(rotation=90)\n",
    "plt.title('Class distribution of 20 Newsgroups test Data')\n",
    "plt.xlabel('News Group')\n",
    "plt.ylabel('Frequency')\n",
    "plt.show()"
   ]
  },
  {
   "cell_type": "code",
   "execution_count": 12,
   "metadata": {
    "colab": {
     "base_uri": "https://localhost:8080/",
     "height": 206
    },
    "id": "S61NgXXYDoNf",
    "outputId": "6f4d091f-f065-416f-ca12-a493c3e8d5f3"
   },
   "outputs": [
    {
     "data": {
      "text/html": [
       "<div>\n",
       "<style scoped>\n",
       "    .dataframe tbody tr th:only-of-type {\n",
       "        vertical-align: middle;\n",
       "    }\n",
       "\n",
       "    .dataframe tbody tr th {\n",
       "        vertical-align: top;\n",
       "    }\n",
       "\n",
       "    .dataframe thead th {\n",
       "        text-align: right;\n",
       "    }\n",
       "</style>\n",
       "<table border=\"1\" class=\"dataframe\">\n",
       "  <thead>\n",
       "    <tr style=\"text-align: right;\">\n",
       "      <th></th>\n",
       "      <th>data</th>\n",
       "      <th>target</th>\n",
       "    </tr>\n",
       "  </thead>\n",
       "  <tbody>\n",
       "    <tr>\n",
       "      <th>0</th>\n",
       "      <td>I am a little confused on all of the models of...</td>\n",
       "      <td>7</td>\n",
       "    </tr>\n",
       "    <tr>\n",
       "      <th>1</th>\n",
       "      <td>I'm not familiar at all with the format of the...</td>\n",
       "      <td>5</td>\n",
       "    </tr>\n",
       "    <tr>\n",
       "      <th>2</th>\n",
       "      <td>\\nIn a word, yes.\\n</td>\n",
       "      <td>0</td>\n",
       "    </tr>\n",
       "    <tr>\n",
       "      <th>3</th>\n",
       "      <td>\\nThey were attacking the Iraqis to drive them...</td>\n",
       "      <td>17</td>\n",
       "    </tr>\n",
       "    <tr>\n",
       "      <th>4</th>\n",
       "      <td>\\nI've just spent two solid months arguing tha...</td>\n",
       "      <td>19</td>\n",
       "    </tr>\n",
       "  </tbody>\n",
       "</table>\n",
       "</div>"
      ],
      "text/plain": [
       "                                                data  target\n",
       "0  I am a little confused on all of the models of...       7\n",
       "1  I'm not familiar at all with the format of the...       5\n",
       "2                                \\nIn a word, yes.\\n       0\n",
       "3  \\nThey were attacking the Iraqis to drive them...      17\n",
       "4  \\nI've just spent two solid months arguing tha...      19"
      ]
     },
     "execution_count": 12,
     "metadata": {},
     "output_type": "execute_result"
    }
   ],
   "source": [
    "# Cleaning test data\n",
    "twenty_test_df = pd.DataFrame({'data': twenty_test.data, 'target': twenty_test.target})\n",
    "twenty_test_df.head()"
   ]
  },
  {
   "cell_type": "code",
   "execution_count": 13,
   "metadata": {
    "colab": {
     "base_uri": "https://localhost:8080/",
     "height": 206
    },
    "id": "wDVij0-eD37O",
    "outputId": "2409cf74-83b1-417f-bded-a9c052e4a3fc"
   },
   "outputs": [
    {
     "data": {
      "text/html": [
       "<div>\n",
       "<style scoped>\n",
       "    .dataframe tbody tr th:only-of-type {\n",
       "        vertical-align: middle;\n",
       "    }\n",
       "\n",
       "    .dataframe tbody tr th {\n",
       "        vertical-align: top;\n",
       "    }\n",
       "\n",
       "    .dataframe thead th {\n",
       "        text-align: right;\n",
       "    }\n",
       "</style>\n",
       "<table border=\"1\" class=\"dataframe\">\n",
       "  <thead>\n",
       "    <tr style=\"text-align: right;\">\n",
       "      <th></th>\n",
       "      <th>data</th>\n",
       "      <th>target</th>\n",
       "    </tr>\n",
       "  </thead>\n",
       "  <tbody>\n",
       "    <tr>\n",
       "      <th>0</th>\n",
       "      <td>i am a little confused on all of the models of...</td>\n",
       "      <td>7</td>\n",
       "    </tr>\n",
       "    <tr>\n",
       "      <th>1</th>\n",
       "      <td>i m not familiar at all with the format of the...</td>\n",
       "      <td>5</td>\n",
       "    </tr>\n",
       "    <tr>\n",
       "      <th>2</th>\n",
       "      <td>\\nin a word  yes \\n</td>\n",
       "      <td>0</td>\n",
       "    </tr>\n",
       "    <tr>\n",
       "      <th>3</th>\n",
       "      <td>\\nthey were attacking the iraqis to drive them...</td>\n",
       "      <td>17</td>\n",
       "    </tr>\n",
       "    <tr>\n",
       "      <th>4</th>\n",
       "      <td>\\ni ve just spent two solid months arguing tha...</td>\n",
       "      <td>19</td>\n",
       "    </tr>\n",
       "  </tbody>\n",
       "</table>\n",
       "</div>"
      ],
      "text/plain": [
       "                                                data  target\n",
       "0  i am a little confused on all of the models of...       7\n",
       "1  i m not familiar at all with the format of the...       5\n",
       "2                                \\nin a word  yes \\n       0\n",
       "3  \\nthey were attacking the iraqis to drive them...      17\n",
       "4  \\ni ve just spent two solid months arguing tha...      19"
      ]
     },
     "execution_count": 13,
     "metadata": {},
     "output_type": "execute_result"
    }
   ],
   "source": [
    "# Text preprocessing steps - remove numbers, captial letters and punctuation\n",
    "alphanumeric = lambda x: re.sub(r\"\"\"\\w*\\d\\w*\"\"\", ' ', x)\n",
    "punc_lower = lambda x: re.sub('[%s]' % re.escape(string.punctuation), ' ', x.lower())\n",
    "\n",
    "twenty_test_df['data'] = twenty_test_df.data.map(alphanumeric).map(punc_lower)\n",
    "twenty_test_df.head()"
   ]
  },
  {
   "cell_type": "markdown",
   "metadata": {
    "id": "8TftbSNNH5Za"
   },
   "source": [
    "**Count Vectorizer**\n"
   ]
  },
  {
   "cell_type": "code",
   "execution_count": 14,
   "metadata": {
    "id": "8aVMW6dYHgr9"
   },
   "outputs": [],
   "source": [
    "from sklearn.feature_extraction.text import CountVectorizer\n",
    "\n",
    "count_vect = CountVectorizer()\n",
    "\n",
    "X_train_cv = count_vect.fit_transform(twenty_train_df.data)  # fit_transform learns the vocab and one-hot encodes\n",
    "X_test_cv = count_vect.transform(twenty_test_df.data) # transform uses the same vocab and one-hot encodes\n",
    "\n"
   ]
  },
  {
   "cell_type": "code",
   "execution_count": 15,
   "metadata": {
    "colab": {
     "base_uri": "https://localhost:8080/"
    },
    "id": "V3Frm3hCJBxy",
    "outputId": "2f6be2d3-263c-48b5-da0b-360eb4a12637"
   },
   "outputs": [
    {
     "name": "stdout",
     "output_type": "stream",
     "text": [
      "(11314, 82229)\n"
     ]
    }
   ],
   "source": [
    "print(X_train_cv.shape)\n"
   ]
  },
  {
   "cell_type": "markdown",
   "metadata": {
    "id": "hCkMrqIVIpw6"
   },
   "source": [
    "**TF-IDF Vectorizer**\n"
   ]
  },
  {
   "cell_type": "code",
   "execution_count": 16,
   "metadata": {
    "id": "e1J_Xnz7I28j"
   },
   "outputs": [],
   "source": [
    "# Creating a document-term matrix using TF-IDF\n",
    "from sklearn.feature_extraction.text import TfidfVectorizer\n",
    "\n",
    "tfidfV = TfidfVectorizer() \n",
    "\n",
    "X_train_tfidfV = tfidfV.fit_transform(twenty_train_df.data) # fit_transform learns the vocab and one-hot encodes \n",
    "X_test_tfidfV = tfidfV.transform(twenty_test_df.data) # transform uses the same vocab and one-hot encodes \n",
    "\n"
   ]
  },
  {
   "cell_type": "code",
   "execution_count": 17,
   "metadata": {
    "colab": {
     "base_uri": "https://localhost:8080/"
    },
    "id": "DxEYpONjJNTQ",
    "outputId": "3d19e0ad-715d-4741-eaed-66d867c7e5dd"
   },
   "outputs": [
    {
     "name": "stdout",
     "output_type": "stream",
     "text": [
      "(7532, 82229)\n",
      "  (0, 81230)\t0.04430979921849208\n",
      "  (0, 80951)\t0.09581324160674037\n",
      "  (0, 79136)\t0.12344710539331953\n",
      "  (0, 78233)\t0.05515864573510405\n",
      "  (0, 75830)\t0.2664653871895212\n",
      "  (0, 75493)\t0.12157512367314485\n",
      "  (0, 71938)\t0.06356743211473717\n",
      "  (0, 71673)\t0.14588023539200273\n",
      "  (0, 71288)\t0.04324134170513733\n",
      "  (0, 71207)\t0.055171414049543864\n",
      "  (0, 71073)\t0.07117960439717716\n",
      "  (0, 71029)\t0.24518765187536357\n",
      "  (0, 71014)\t0.03857182436369772\n",
      "  (0, 70992)\t0.06975363822473295\n",
      "  (0, 70606)\t0.09811695148686794\n",
      "  (0, 68914)\t0.15522338235434657\n",
      "  (0, 67355)\t0.2366651960380231\n",
      "  (0, 67106)\t0.164249399653297\n",
      "  (0, 66312)\t0.092766083815774\n",
      "  (0, 63435)\t0.14012061681691598\n",
      "  (0, 55645)\t0.2647867963668396\n",
      "  (0, 53318)\t0.13422145535667251\n",
      "  (0, 51524)\t0.06807297965877963\n",
      "  (0, 51145)\t0.04771795311185963\n",
      "  (0, 50798)\t0.042773433905979784\n",
      "  :\t:\n",
      "  (7531, 38662)\t0.06750486326876103\n",
      "  (7531, 35447)\t0.11020842765309612\n",
      "  (7531, 35346)\t0.1540494876543385\n",
      "  (7531, 32770)\t0.11372085776160955\n",
      "  (7531, 31607)\t0.37814342735574075\n",
      "  (7531, 31062)\t0.10215230398141044\n",
      "  (7531, 25507)\t0.07938968300467214\n",
      "  (7531, 24736)\t0.12760475798567758\n",
      "  (7531, 23748)\t0.1488891220971426\n",
      "  (7531, 21962)\t0.1431093915228559\n",
      "  (7531, 19317)\t0.13400916607511149\n",
      "  (7531, 19220)\t0.09846160124000577\n",
      "  (7531, 18539)\t0.13458377514878303\n",
      "  (7531, 14515)\t0.07812052131798858\n",
      "  (7531, 13725)\t0.19011391294990454\n",
      "  (7531, 11530)\t0.13614278586915565\n",
      "  (7531, 10697)\t0.3237945934465225\n",
      "  (7531, 9180)\t0.10059372826064504\n",
      "  (7531, 6373)\t0.09650800347712349\n",
      "  (7531, 6319)\t0.08899834859427994\n",
      "  (7531, 6242)\t0.09429235870187998\n",
      "  (7531, 3678)\t0.13641062322489297\n",
      "  (7531, 3057)\t0.06056200548634422\n",
      "  (7531, 2501)\t0.056945869609797764\n",
      "  (7531, 378)\t0.16812426257452653\n"
     ]
    }
   ],
   "source": [
    "print(X_test_tfidfV.shape)\n",
    "print(X_test_tfidfV)"
   ]
  },
  {
   "cell_type": "code",
   "execution_count": 18,
   "metadata": {},
   "outputs": [],
   "source": [
    "def gauss(mean,var,x):\n",
    "    numerator = np.exp(- (x-mean)**2 / (2 * var))\n",
    "    denominator = np.sqrt(2 * np.pi * var)\n",
    "    return numerator / denominator"
   ]
  },
  {
   "cell_type": "code",
   "execution_count": 74,
   "metadata": {},
   "outputs": [
    {
     "data": {
      "text/plain": [
       "(array([    0,     0,     0, ..., 11313, 11313, 11313], dtype=int32),\n",
       " array([48278, 81247,  9311, ..., 47526, 20763, 26156], dtype=int32))"
      ]
     },
     "execution_count": 74,
     "metadata": {},
     "output_type": "execute_result"
    }
   ],
   "source": [
    "x_train = X_train_tfidfV\n",
    "sentence, word = X_train_tfidfV.nonzero()\n",
    "y_train = X_test_tfidfV.data\n",
    "x_test = X_test_tfidfV\n",
    "x_train.nonzero()"
   ]
  },
  {
   "cell_type": "code",
   "execution_count": 75,
   "metadata": {},
   "outputs": [],
   "source": [
    "class NaiveBayes():\n",
    "    def fit(self, x_train,y_train):\n",
    "        sentence, word = x_train.nonzero()\n",
    "        frequ = x_train.data\n",
    "        classes = y_train\n",
    "        training_y = []\n",
    "        features = np.unique(word)\n",
    "        n_sentence = size(sentence)\n",
    "        n_features = len(features)\n",
    "        for i in range(n_sentence) :\n",
    "            training_y.append(classes[sentence[i]]) \n",
    "        sen = pd.DataFrame(sentence)\n",
    "        wor = pd.DataFrame(word)\n",
    "        cla = pd.DataFrame(training_y)\n",
    "        fre = pd.DataFrame(frequ)\n",
    "        training_x =  pd.concat([wor,fre,cla], axis=1)\n",
    "        training_x.columns = [\"1\",\"2\",\"3\"]\n",
    "        mean = training_x.groupby([\"1\",\"3\"]).mean()\n",
    "        var = training_x.groupby([\"1\",\"3\"]).var()\n",
    "        return mean,var\n",
    "    \n",
    "    def predict(self, x_test,mean,var):\n",
    "        sentence_test, word_test = x_test.nonzero()\n",
    "        frequ_test = x_test.data\n",
    "        test_y = []\n",
    "        features_test = np.unique(word_test)\n",
    "        n_sentence = size(np.unique(sentence_test))\n",
    "        n_features = len(features_test) \n",
    "        sen = pd.DataFrame(sentence)\n",
    "        wor = pd.DataFrame(word)\n",
    "      #  cla = pd.DataFrame(training_y)\n",
    "        fre = pd.DataFrame(frequ_test)\n",
    "        testing_x =  pd.concat([sen,wor,fre], axis=1)\n",
    "        testing_x.columns = [\"1\",\"2\",\"3\"]\n",
    "        pred = []\n",
    "        for i in range(n_sentence):\n",
    "            pros = np.ones((20), dtype=np.float64)\n",
    "            tmp = np.asarray(testing_x[testing_x[\"1\"]==i])# locked on sentence\n",
    "            t=0\n",
    "            for j in tmp[:,1]:\n",
    "                temp = np.asarray(mean.loc[j,:]) # locked 0n word\n",
    "                temp_1 = np.asarray(var.loc[j,:])\n",
    "                tmp_1 = tmp[t,2]\n",
    "                tmp_3 = np.asarray(mean.loc[j,:].index)\n",
    "                a = np.zeros((20), dtype=np.float64)\n",
    "                b = np.zeros((20), dtype=np.float64)\n",
    "                for k in tmp_3:\n",
    "                    a[k] = float(mean.loc[j,k])\n",
    "                    b[k] = float(var.loc[j,k])\n",
    "                for l in range(20):\n",
    "                    if a[l] and b[l] > 0:\n",
    "                        pros[l] =  gauss(a[l],b[l],tmp_1)*pros[l]\n",
    "                t=t+1\n",
    "            pred.append(np.argmax(pros))\n",
    "           # print(np.argmax(pros)) \n",
    "        return pred"
   ]
  },
  {
   "cell_type": "code",
   "execution_count": 76,
   "metadata": {},
   "outputs": [
    {
     "name": "stderr",
     "output_type": "stream",
     "text": [
      "C:\\Users\\PRATEE~1\\AppData\\Local\\Temp/ipykernel_58164/1786992167.py:52: RuntimeWarning: overflow encountered in double_scalars\n",
      "  pros[l] =  gauss(a[l],b[l],tmp_1)*pros[l]\n"
     ]
    }
   ],
   "source": [
    "clf = NaiveBayes()\n",
    "mean,var = clf.fit(x_train,twenty_train.target)\n",
    "pred = clf.predict(x_test,mean,var)"
   ]
  },
  {
   "cell_type": "code",
   "execution_count": 71,
   "metadata": {},
   "outputs": [],
   "source": [
    "def accuracy(y_true,y_pred):\n",
    "    accuracy==np.sum(y_true==y_pred)/len(y_true)\n",
    "    return accuracy\n",
    "\n",
    "def crossval(K,data,model,label,x_test,per):\n",
    "    length = len(data) \n",
    "    accu = []\n",
    "    for i in range(K):\n",
    "        val = data[int(i*(length/K)):int((i+1)*(length/K))]\n",
    "        train =  np.concatenate((data[:int(i*(length/K))],data[int((i+1)*(length/K)):]))\n",
    "        y_true = label[int(i*(length/K)):int((i+1)*(length/K))]\n",
    "        y_true_tr = np.concatenate((label[:int(i*(length/K))] ,label[int((i+1)*(length/K)):]))\n",
    "\n",
    "        if model == \"KNN\":\n",
    "            text_clf = Pipeline([ ('vect', TfidfVectorizer(sublinear_tf=True)), ('clf', KNeighborsClassifier(n_neighbors=per))])  \n",
    "            text_clf.fit(train, y_true_tr)\n",
    "            d= text_clf.score(val, y_true)\n",
    "            print(len(train))\n",
    "        if model == \"reg\":\n",
    "            text_clf = Pipeline([ ('vect', TfidfVectorizer(sublinear_tf=True)), ('clf',LogisticRegression( solver='saga',penalty='elasticnet',l1_ratio=0,max_iter=per))])  \n",
    "            text_clf.fit(train, y_true_tr)\n",
    "            d= text_clf.score(val, y_true)  \n",
    "            print(len(train))\n",
    "        if model == \"naive\":\n",
    "            clf = NaiveBayes()\n",
    "            mean,var = clf.fit(train,y_train)\n",
    "            pred = clf.predict(train,mean,var)\n",
    "            d=accuracy_score(np.asarray(y_true),pred)\n",
    "        accu.append(d)\n",
    "    k = np.argmax(accu)\n",
    "    train = np.concatenate((data[:int(i*(length/K))],data[int((i+1)*(length/K)):]))\n",
    "    y_true_tr = np.concatenate((label[:int(i*(length/K))] ,label[int((i+1)*(length/K)):]))\n",
    "    text_clf.fit(train, y_true_tr)\n",
    "    pred_1 = text_clf.predict(x_test)\n",
    "    pred_2 = text_clf.score(train,y_true_tr)\n",
    "    return accu,pred_1,pred_2"
   ]
  },
  {
   "cell_type": "code",
   "execution_count": 81,
   "metadata": {
    "scrolled": true
   },
   "outputs": [
    {
     "name": "stdout",
     "output_type": "stream",
     "text": [
      "9052\n",
      "9051\n"
     ]
    },
    {
     "name": "stderr",
     "output_type": "stream",
     "text": [
      "C:\\Users\\Prateek Jeet Singh\\anaconda3\\lib\\site-packages\\sklearn\\linear_model\\_sag.py:328: ConvergenceWarning: The max_iter was reached which means the coef_ did not converge\n",
      "  warnings.warn(\"The max_iter was reached which means \"\n"
     ]
    },
    {
     "name": "stdout",
     "output_type": "stream",
     "text": [
      "9051\n",
      "9051\n",
      "9051\n"
     ]
    },
    {
     "name": "stderr",
     "output_type": "stream",
     "text": [
      "C:\\Users\\Prateek Jeet Singh\\anaconda3\\lib\\site-packages\\sklearn\\linear_model\\_sag.py:328: ConvergenceWarning: The max_iter was reached which means the coef_ did not converge\n",
      "  warnings.warn(\"The max_iter was reached which means \"\n"
     ]
    },
    {
     "name": "stdout",
     "output_type": "stream",
     "text": [
      "9052\n",
      "9051\n",
      "9051\n",
      "9051\n",
      "9051\n",
      "9052\n",
      "9051\n",
      "9051\n",
      "9051\n",
      "9051\n",
      "9052\n",
      "9051\n",
      "9051\n",
      "9051\n",
      "9051\n",
      "9052\n",
      "9051\n",
      "9051\n",
      "9051\n",
      "9051\n",
      "9052\n",
      "9051\n",
      "9051\n",
      "9051\n",
      "9051\n",
      "9052\n",
      "9051\n",
      "9051\n",
      "9051\n",
      "9051\n",
      "9052\n",
      "9051\n",
      "9051\n",
      "9051\n",
      "9051\n",
      "9052\n",
      "9051\n",
      "9051\n",
      "9051\n",
      "9051\n",
      "9052\n",
      "9051\n",
      "9051\n",
      "9051\n",
      "9051\n"
     ]
    }
   ],
   "source": [
    "per = 10\n",
    "reg_train_1 = []\n",
    "reg_test_1 = []\n",
    "for i in range(10):\n",
    "    per = per + 10\n",
    "    val_acu, pred_1 , pred_2 = crossval(5,twenty_train_df.data[:int(len(twenty_train_df.data))],'reg',twenty_train.target[:int(len(twenty_train_df.data))],twenty_test_df.data,per)\n",
    "    reg_train_1.append(pred_2)\n",
    "    y_true = twenty_test_df.target\n",
    "    a = accuracy_score(np.asarray(pred_1),y_true)\n",
    "    reg_test_1.append(a)"
   ]
  },
  {
   "cell_type": "code",
   "execution_count": 82,
   "metadata": {},
   "outputs": [
    {
     "name": "stdout",
     "output_type": "stream",
     "text": [
      "[0.9809965749640923, 0.9808860899348139, 0.9809965749640923, 0.9808860899348139, 0.9809965749640923, 0.9809965749640923, 0.9809965749640923, 0.9808860899348139, 0.9808860899348139, 0.9809965749640923]\n",
      "[0.655602761550717, 0.655602761550717, 0.655602761550717, 0.6554699946893255, 0.6554699946893255, 0.655602761550717, 0.6553372278279341, 0.6558682952734998, 0.6554699946893255, 0.655602761550717]\n"
     ]
    }
   ],
   "source": [
    "print(reg_train_1)\n",
    "print(reg_test_1)"
   ]
  },
  {
   "cell_type": "code",
   "execution_count": 29,
   "metadata": {},
   "outputs": [],
   "source": [
    "Reg_train_l1 = [0.8370345818141642, 0.8355982764335432, 0.8348248812285936, 0.8341619710529223, 0.8343829411114794, 0.8346039111700364, 0.8338305159650867, 0.8339410009943653, 0.8340514860236438]\n",
    "\n",
    "Reg_test_l1 = [0.5543016463090813, 0.5509824747742963, 0.5483271375464684, 0.5471322357939459, 0.5466011683483802, 0.5464684014869888, 0.5458045671800319, 0.5456718003186405, 0.5459373340414233]\n",
    "\n",
    "Reg_train_l2 = [0.9808860899348139, 0.9809965749640923, 0.9809965749640923, 0.9809965749640923, 0.9809965749640923, 0.9809965749640923, 0.9809965749640923, 0.9809965749640923, 0.9809965749640923]\n",
    "\n",
    "\n",
    "Reg_test_l2 = [0.655602761550717, 0.6554699946893255, 0.6553372278279341, 0.6553372278279341, 0.6554699946893255, 0.6552044609665427, 0.655602761550717, 0.655602761550717, 0.6652355284121084]\n",
    "\n"
   ]
  },
  {
   "cell_type": "code",
   "execution_count": 30,
   "metadata": {},
   "outputs": [
    {
     "data": {
      "image/png": "[encoded data removed]",
      "text/plain": [
       "<Figure size 432x288 with 1 Axes>"
      ]
     },
     "metadata": {
      "needs_background": "light"
     },
     "output_type": "display_data"
    }
   ],
   "source": [
    "import matplotlib.pyplot as plt\n",
    "plt.title(\"accuracy vs iterations when using l1 and l2 normalization\")\n",
    "plt.xlabel(\"iteration value\")\n",
    "plt.ylabel(\"acuracy of the model\")\n",
    "plt.plot(Reg_train_l1, color =\"green\")\n",
    "plt.plot(Reg_test_l1, color = \"pink\")\n",
    "plt.plot(Reg_train_l2, color = \"blue\")\n",
    "plt.plot(Reg_test_l2 , color = \"red\")\n",
    "plt.legend([\"training accuracy for l1\", \"test accuracy for l1\",\"train accuracy for l2\",\"test accuracy for l2\"], loc =\"lower right\")\n",
    "plt.show()"
   ]
  },
  {
   "cell_type": "code",
   "execution_count": 308,
   "metadata": {},
   "outputs": [],
   "source": [
    "per = 1"
   ]
  },
  {
   "cell_type": "code",
   "execution_count": 424,
   "metadata": {
    "scrolled": true
   },
   "outputs": [
    {
     "name": "stdout",
     "output_type": "stream",
     "text": [
      "9052\n",
      "9051\n",
      "9051\n",
      "9051\n",
      "9051\n"
     ]
    }
   ],
   "source": [
    "val_acu, pred_1 , pred_2 = crossval(5,twenty_train_df.data[:int(per*len(twenty_train_df.data))],'reg',twenty_train.target[:int(per*len(twenty_train_df.data))],twenty_test_df.data)"
   ]
  },
  {
   "cell_type": "code",
   "execution_count": 276,
   "metadata": {},
   "outputs": [
    {
     "data": {
      "text/plain": [
       "0.9808860899348139"
      ]
     },
     "execution_count": 276,
     "metadata": {},
     "output_type": "execute_result"
    }
   ],
   "source": [
    "pred_2"
   ]
  },
  {
   "cell_type": "code",
   "execution_count": 277,
   "metadata": {},
   "outputs": [
    {
     "data": {
      "text/plain": [
       "array([ 7,  1,  2, ..., 15, 12, 15])"
      ]
     },
     "execution_count": 277,
     "metadata": {},
     "output_type": "execute_result"
    }
   ],
   "source": [
    " np.concatenate((pred_1[:1],pred_1[1:]))"
   ]
  },
  {
   "cell_type": "code",
   "execution_count": 278,
   "metadata": {},
   "outputs": [
    {
     "name": "stdout",
     "output_type": "stream",
     "text": [
      "[0.9005305  0.89969068 0.9036677  0.91029607 0.90278392]\n"
     ]
    }
   ],
   "source": [
    "print(np.array(val_acu))"
   ]
  },
  {
   "cell_type": "code",
   "execution_count": 23,
   "metadata": {},
   "outputs": [],
   "source": [
    "from sklearn.metrics import accuracy_score"
   ]
  },
  {
   "cell_type": "code",
   "execution_count": 280,
   "metadata": {
    "scrolled": true
   },
   "outputs": [],
   "source": [
    "y_true = twenty_test_df.target\n",
    "a = accuracy_score(np.asarray(pred_1),y_true)"
   ]
  },
  {
   "cell_type": "code",
   "execution_count": 281,
   "metadata": {},
   "outputs": [
    {
     "data": {
      "text/plain": [
       "0.6552044609665427"
      ]
     },
     "execution_count": 281,
     "metadata": {},
     "output_type": "execute_result"
    }
   ],
   "source": [
    "a"
   ]
  },
  {
   "cell_type": "markdown",
   "metadata": {
    "id": "pMEEBPcJJaWN"
   },
   "source": [
    "**logestic regression**"
   ]
  },
  {
   "cell_type": "code",
   "execution_count": 286,
   "metadata": {
    "colab": {
     "base_uri": "https://localhost:8080/"
    },
    "id": "tlvkvm4EJW1h",
    "outputId": "20ae9a7e-40a1-4b2b-d5ba-2b6ea409e91b"
   },
   "outputs": [
    {
     "name": "stdout",
     "output_type": "stream",
     "text": [
      "0.6603823685608072\n"
     ]
    }
   ],
   "source": [
    "# Performance LR Classifier \n",
    "text_clf = Pipeline([ ('vect', TfidfVectorizer(sublinear_tf=True)), ('clf', LogisticRegression())])  \n",
    "text_clf.fit(twenty_train_df.data, twenty_train_df.target)\n",
    "print(text_clf.score(twenty_test_df.data, twenty_test_df.target))"
   ]
  },
  {
   "cell_type": "markdown",
   "metadata": {
    "id": "nIKSKXXnScTi"
   },
   "source": [
    "Finding best parameters of LR"
   ]
  },
  {
   "cell_type": "code",
   "execution_count": null,
   "metadata": {
    "colab": {
     "base_uri": "https://localhost:8080/"
    },
    "id": "A0DlyKcySbGY",
    "outputId": "1363c2c2-5a7a-4177-a551-e8db724d7c5e"
   },
   "outputs": [
    {
     "name": "stderr",
     "output_type": "stream",
     "text": [
      "/usr/local/lib/python3.7/dist-packages/sklearn/model_selection/_validation.py:372: FitFailedWarning: \n",
      "5 fits failed out of a total of 10.\n",
      "The score on these train-test partitions for these parameters will be set to nan.\n",
      "If these failures are not expected, you can try to debug them by setting error_score='raise'.\n",
      "\n",
      "Below are more details about the failures:\n",
      "--------------------------------------------------------------------------------\n",
      "5 fits failed with the following error:\n",
      "Traceback (most recent call last):\n",
      "  File \"/usr/local/lib/python3.7/dist-packages/sklearn/model_selection/_validation.py\", line 680, in _fit_and_score\n",
      "    estimator.fit(X_train, y_train, **fit_params)\n",
      "  File \"/usr/local/lib/python3.7/dist-packages/sklearn/pipeline.py\", line 394, in fit\n",
      "    self._final_estimator.fit(Xt, y, **fit_params_last_step)\n",
      "  File \"/usr/local/lib/python3.7/dist-packages/sklearn/linear_model/_logistic.py\", line 1461, in fit\n",
      "    solver = _check_solver(self.solver, self.penalty, self.dual)\n",
      "  File \"/usr/local/lib/python3.7/dist-packages/sklearn/linear_model/_logistic.py\", line 449, in _check_solver\n",
      "    % (solver, penalty)\n",
      "ValueError: Solver lbfgs supports only 'l2' or 'none' penalties, got l1 penalty.\n",
      "\n",
      "  warnings.warn(some_fits_failed_message, FitFailedWarning)\n",
      "/usr/local/lib/python3.7/dist-packages/sklearn/model_selection/_search.py:972: UserWarning: One or more of the test scores are non-finite: [       nan 0.90710628]\n",
      "  category=UserWarning,\n"
     ]
    },
    {
     "data": {
      "text/plain": [
       "GridSearchCV(estimator=Pipeline(steps=[('vect',\n",
       "                                        TfidfVectorizer(stop_words='english',\n",
       "                                                        sublinear_tf=True)),\n",
       "                                       ('clf', LogisticRegression())]),\n",
       "             param_grid={'clf__penalty': ('l1', 'l2')})"
      ]
     },
     "execution_count": 41,
     "metadata": {},
     "output_type": "execute_result"
    }
   ],
   "source": [
    "pipeline = Pipeline([('vect', TfidfVectorizer(sublinear_tf=True)), ('clf', LogisticRegression())])  \n",
    "\n",
    "parameters = {'clf__penalty': ('l1', 'l2')}\n",
    "\n",
    "grid_search = GridSearchCV(pipeline, parameters)\n",
    "grid_search.fit(twenty_train_df.data, twenty_train_df.target)"
   ]
  },
  {
   "cell_type": "code",
   "execution_count": null,
   "metadata": {
    "colab": {
     "base_uri": "https://localhost:8080/"
    },
    "id": "E7MtdN15TSBg",
    "outputId": "73696b6a-8b20-4a0e-bf47-679f40c8eca2"
   },
   "outputs": [
    {
     "name": "stdout",
     "output_type": "stream",
     "text": [
      "Best training score 0.9071\n"
     ]
    }
   ],
   "source": [
    "print('Best training score %0.4f' % grid_search.best_score_)"
   ]
  },
  {
   "cell_type": "code",
   "execution_count": null,
   "metadata": {
    "colab": {
     "base_uri": "https://localhost:8080/"
    },
    "id": "Sq_eqL_UTZCv",
    "outputId": "ba78d3b1-03ac-4800-cb0b-5f06bc5c22a2"
   },
   "outputs": [
    {
     "name": "stdout",
     "output_type": "stream",
     "text": [
      "Best parameters = \n",
      "clf__penalty: 'l2'\n"
     ]
    }
   ],
   "source": [
    "print('Best parameters = ')\n",
    "best_parameters = grid_search.best_estimator_.get_params()\n",
    "for param_name in sorted(parameters.keys()):\n",
    "    print(\"%s: %r\" % (param_name, best_parameters[param_name]))"
   ]
  },
  {
   "cell_type": "code",
   "execution_count": null,
   "metadata": {
    "colab": {
     "base_uri": "https://localhost:8080/"
    },
    "id": "W8ri7XQxTcn2",
    "outputId": "e80414e1-74b3-4530-db86-798c9d0dbab1"
   },
   "outputs": [
    {
     "data": {
      "text/plain": [
       "0.6702071163037706"
      ]
     },
     "execution_count": 45,
     "metadata": {},
     "output_type": "execute_result"
    }
   ],
   "source": [
    "# Test Accuracy\n",
    "grid_search.best_estimator_.score(twenty_test_df.data, twenty_test_df.target)"
   ]
  },
  {
   "cell_type": "markdown",
   "metadata": {
    "id": "wycbMZT6PnYR"
   },
   "source": [
    "# DataSet-2"
   ]
  },
  {
   "cell_type": "code",
   "execution_count": 40,
   "metadata": {
    "colab": {
     "base_uri": "https://localhost:8080/",
     "height": 206
    },
    "id": "COgJeZBQsdsD",
    "outputId": "ad8bb90c-3604-46ea-a0ee-c839062b8dcc"
   },
   "outputs": [
    {
     "data": {
      "text/html": [
       "<div>\n",
       "<style scoped>\n",
       "    .dataframe tbody tr th:only-of-type {\n",
       "        vertical-align: middle;\n",
       "    }\n",
       "\n",
       "    .dataframe tbody tr th {\n",
       "        vertical-align: top;\n",
       "    }\n",
       "\n",
       "    .dataframe thead th {\n",
       "        text-align: right;\n",
       "    }\n",
       "</style>\n",
       "<table border=\"1\" class=\"dataframe\">\n",
       "  <thead>\n",
       "    <tr style=\"text-align: right;\">\n",
       "      <th></th>\n",
       "      <th>polarity</th>\n",
       "      <th>id</th>\n",
       "      <th>date</th>\n",
       "      <th>flag</th>\n",
       "      <th>user</th>\n",
       "      <th>tweet</th>\n",
       "    </tr>\n",
       "  </thead>\n",
       "  <tbody>\n",
       "    <tr>\n",
       "      <th>0</th>\n",
       "      <td>0</td>\n",
       "      <td>1467810369</td>\n",
       "      <td>Mon Apr 06 22:19:45 PDT 2009</td>\n",
       "      <td>NO_QUERY</td>\n",
       "      <td>_TheSpecialOne_</td>\n",
       "      <td>@switchfoot http://twitpic.com/2y1zl - Awww, t...</td>\n",
       "    </tr>\n",
       "    <tr>\n",
       "      <th>1</th>\n",
       "      <td>0</td>\n",
       "      <td>1467810672</td>\n",
       "      <td>Mon Apr 06 22:19:49 PDT 2009</td>\n",
       "      <td>NO_QUERY</td>\n",
       "      <td>scotthamilton</td>\n",
       "      <td>is upset that he can't update his Facebook by ...</td>\n",
       "    </tr>\n",
       "    <tr>\n",
       "      <th>2</th>\n",
       "      <td>0</td>\n",
       "      <td>1467810917</td>\n",
       "      <td>Mon Apr 06 22:19:53 PDT 2009</td>\n",
       "      <td>NO_QUERY</td>\n",
       "      <td>mattycus</td>\n",
       "      <td>@Kenichan I dived many times for the ball. Man...</td>\n",
       "    </tr>\n",
       "    <tr>\n",
       "      <th>3</th>\n",
       "      <td>0</td>\n",
       "      <td>1467811184</td>\n",
       "      <td>Mon Apr 06 22:19:57 PDT 2009</td>\n",
       "      <td>NO_QUERY</td>\n",
       "      <td>ElleCTF</td>\n",
       "      <td>my whole body feels itchy and like its on fire</td>\n",
       "    </tr>\n",
       "    <tr>\n",
       "      <th>4</th>\n",
       "      <td>0</td>\n",
       "      <td>1467811193</td>\n",
       "      <td>Mon Apr 06 22:19:57 PDT 2009</td>\n",
       "      <td>NO_QUERY</td>\n",
       "      <td>Karoli</td>\n",
       "      <td>@nationwideclass no, it's not behaving at all....</td>\n",
       "    </tr>\n",
       "  </tbody>\n",
       "</table>\n",
       "</div>"
      ],
      "text/plain": [
       "   polarity          id                          date      flag  \\\n",
       "0         0  1467810369  Mon Apr 06 22:19:45 PDT 2009  NO_QUERY   \n",
       "1         0  1467810672  Mon Apr 06 22:19:49 PDT 2009  NO_QUERY   \n",
       "2         0  1467810917  Mon Apr 06 22:19:53 PDT 2009  NO_QUERY   \n",
       "3         0  1467811184  Mon Apr 06 22:19:57 PDT 2009  NO_QUERY   \n",
       "4         0  1467811193  Mon Apr 06 22:19:57 PDT 2009  NO_QUERY   \n",
       "\n",
       "              user                                              tweet  \n",
       "0  _TheSpecialOne_  @switchfoot http://twitpic.com/2y1zl - Awww, t...  \n",
       "1    scotthamilton  is upset that he can't update his Facebook by ...  \n",
       "2         mattycus  @Kenichan I dived many times for the ball. Man...  \n",
       "3          ElleCTF    my whole body feels itchy and like its on fire   \n",
       "4           Karoli  @nationwideclass no, it's not behaving at all....  "
      ]
     },
     "execution_count": 40,
     "metadata": {},
     "output_type": "execute_result"
    }
   ],
   "source": [
    "df=pd.read_csv('training.1600000.processed.noemoticon.csv',encoding='latin', header=None, \n",
    "                 names=[\"polarity\", \"id\", \"date\", \"flag\", \"user\", \"tweet\"])\n",
    "df.head()"
   ]
  },
  {
   "cell_type": "code",
   "execution_count": 41,
   "metadata": {
    "colab": {
     "base_uri": "https://localhost:8080/",
     "height": 206
    },
    "id": "LeOnA35dObYu",
    "outputId": "e62c2b3a-6ebb-482a-ec8b-f3b57078268c"
   },
   "outputs": [
    {
     "data": {
      "text/html": [
       "<div>\n",
       "<style scoped>\n",
       "    .dataframe tbody tr th:only-of-type {\n",
       "        vertical-align: middle;\n",
       "    }\n",
       "\n",
       "    .dataframe tbody tr th {\n",
       "        vertical-align: top;\n",
       "    }\n",
       "\n",
       "    .dataframe thead th {\n",
       "        text-align: right;\n",
       "    }\n",
       "</style>\n",
       "<table border=\"1\" class=\"dataframe\">\n",
       "  <thead>\n",
       "    <tr style=\"text-align: right;\">\n",
       "      <th></th>\n",
       "      <th>polarity</th>\n",
       "      <th>tweet</th>\n",
       "    </tr>\n",
       "  </thead>\n",
       "  <tbody>\n",
       "    <tr>\n",
       "      <th>0</th>\n",
       "      <td>0</td>\n",
       "      <td>@switchfoot http://twitpic.com/2y1zl - Awww, t...</td>\n",
       "    </tr>\n",
       "    <tr>\n",
       "      <th>1</th>\n",
       "      <td>0</td>\n",
       "      <td>is upset that he can't update his Facebook by ...</td>\n",
       "    </tr>\n",
       "    <tr>\n",
       "      <th>2</th>\n",
       "      <td>0</td>\n",
       "      <td>@Kenichan I dived many times for the ball. Man...</td>\n",
       "    </tr>\n",
       "    <tr>\n",
       "      <th>3</th>\n",
       "      <td>0</td>\n",
       "      <td>my whole body feels itchy and like its on fire</td>\n",
       "    </tr>\n",
       "    <tr>\n",
       "      <th>4</th>\n",
       "      <td>0</td>\n",
       "      <td>@nationwideclass no, it's not behaving at all....</td>\n",
       "    </tr>\n",
       "  </tbody>\n",
       "</table>\n",
       "</div>"
      ],
      "text/plain": [
       "   polarity                                              tweet\n",
       "0         0  @switchfoot http://twitpic.com/2y1zl - Awww, t...\n",
       "1         0  is upset that he can't update his Facebook by ...\n",
       "2         0  @Kenichan I dived many times for the ball. Man...\n",
       "3         0    my whole body feels itchy and like its on fire \n",
       "4         0  @nationwideclass no, it's not behaving at all...."
      ]
     },
     "execution_count": 41,
     "metadata": {},
     "output_type": "execute_result"
    }
   ],
   "source": [
    "# Remove Unnecessary columns\n",
    "tweet_train_df = df.drop([\"id\",\"flag\",\"date\",\"user\"], axis = 1)\n",
    "tweet_train_df.head()"
   ]
  },
  {
   "cell_type": "code",
   "execution_count": 42,
   "metadata": {
    "colab": {
     "base_uri": "https://localhost:8080/"
    },
    "id": "QZqqfqzROxxO",
    "outputId": "2a0b86fc-16b4-4a5a-9cc8-fd7070dd2c95"
   },
   "outputs": [
    {
     "data": {
      "text/plain": [
       "(array([0, 4], dtype=int64), array([800000, 800000], dtype=int64))"
      ]
     },
     "execution_count": 42,
     "metadata": {},
     "output_type": "execute_result"
    }
   ],
   "source": [
    "\n",
    "targets2, frequency2 = np.unique(tweet_train_df.polarity, return_counts=True)\n",
    "targets2, frequency2 "
   ]
  },
  {
   "cell_type": "code",
   "execution_count": 43,
   "metadata": {
    "colab": {
     "base_uri": "https://localhost:8080/",
     "height": 292
    },
    "id": "LZ97nechQNVH",
    "outputId": "700e8fe1-f055-4f17-9cdc-35cc7ef4906b"
   },
   "outputs": [
    {
     "data": {
      "image/png": "[encoded data removed]",
      "text/plain": [
       "<Figure size 432x288 with 1 Axes>"
      ]
     },
     "metadata": {
      "needs_background": "light"
     },
     "output_type": "display_data"
    }
   ],
   "source": [
    "\n",
    "# Training data class distribution\n",
    "fig=plt.figure( )\n",
    "plt.bar(targets2,frequency2)\n",
    "plt.xticks(rotation=90)\n",
    "plt.title('Class distribution of Sentiment140 train dataset ')\n",
    "plt.xlabel('polarity')\n",
    "plt.ylabel('Frequency')\n",
    "plt.show()"
   ]
  },
  {
   "cell_type": "markdown",
   "metadata": {
    "id": "yXDQkYuIQ99s"
   },
   "source": [
    "**Data cleaning:**\n"
   ]
  },
  {
   "cell_type": "code",
   "execution_count": 44,
   "metadata": {
    "colab": {
     "base_uri": "https://localhost:8080/",
     "height": 206
    },
    "id": "QIPltUYMQ_Fq",
    "outputId": "922c4aa9-23c3-4016-cf1d-c3c81e42aaa9"
   },
   "outputs": [
    {
     "data": {
      "text/html": [
       "<div>\n",
       "<style scoped>\n",
       "    .dataframe tbody tr th:only-of-type {\n",
       "        vertical-align: middle;\n",
       "    }\n",
       "\n",
       "    .dataframe tbody tr th {\n",
       "        vertical-align: top;\n",
       "    }\n",
       "\n",
       "    .dataframe thead th {\n",
       "        text-align: right;\n",
       "    }\n",
       "</style>\n",
       "<table border=\"1\" class=\"dataframe\">\n",
       "  <thead>\n",
       "    <tr style=\"text-align: right;\">\n",
       "      <th></th>\n",
       "      <th>polarity</th>\n",
       "      <th>tweet</th>\n",
       "    </tr>\n",
       "  </thead>\n",
       "  <tbody>\n",
       "    <tr>\n",
       "      <th>0</th>\n",
       "      <td>0</td>\n",
       "      <td>switchfoot http   twitpic com     awww  that ...</td>\n",
       "    </tr>\n",
       "    <tr>\n",
       "      <th>1</th>\n",
       "      <td>0</td>\n",
       "      <td>is upset that he can t update his facebook by ...</td>\n",
       "    </tr>\n",
       "    <tr>\n",
       "      <th>2</th>\n",
       "      <td>0</td>\n",
       "      <td>kenichan i dived many times for the ball  man...</td>\n",
       "    </tr>\n",
       "    <tr>\n",
       "      <th>3</th>\n",
       "      <td>0</td>\n",
       "      <td>my whole body feels itchy and like its on fire</td>\n",
       "    </tr>\n",
       "    <tr>\n",
       "      <th>4</th>\n",
       "      <td>0</td>\n",
       "      <td>nationwideclass no  it s not behaving at all ...</td>\n",
       "    </tr>\n",
       "  </tbody>\n",
       "</table>\n",
       "</div>"
      ],
      "text/plain": [
       "   polarity                                              tweet\n",
       "0         0   switchfoot http   twitpic com     awww  that ...\n",
       "1         0  is upset that he can t update his facebook by ...\n",
       "2         0   kenichan i dived many times for the ball  man...\n",
       "3         0    my whole body feels itchy and like its on fire \n",
       "4         0   nationwideclass no  it s not behaving at all ..."
      ]
     },
     "execution_count": 44,
     "metadata": {},
     "output_type": "execute_result"
    }
   ],
   "source": [
    "# Text preprocessing steps - remove numbers, captial letters and punctuation\n",
    "import re\n",
    "import string\n",
    "\n",
    "alphanumeric = lambda x: re.sub(r\"\"\"\\w*\\d\\w*\"\"\", ' ', x)\n",
    "punc_lower = lambda x: re.sub('[%s]' % re.escape(string.punctuation), ' ', x.lower())\n",
    "\n",
    "tweet_train_df['tweet'] = tweet_train_df.tweet.map(alphanumeric).map(punc_lower)\n",
    "tweet_train_df.head()"
   ]
  },
  {
   "cell_type": "markdown",
   "metadata": {
    "id": "yU_rROV3StBK"
   },
   "source": [
    "**Test data**\n",
    "\n",
    "load and cleaning"
   ]
  },
  {
   "cell_type": "code",
   "execution_count": 45,
   "metadata": {
    "colab": {
     "base_uri": "https://localhost:8080/",
     "height": 206
    },
    "id": "4o2ZJpHASopZ",
    "outputId": "9d78b8ae-85db-48c7-acb3-d972f1555e05"
   },
   "outputs": [
    {
     "data": {
      "text/html": [
       "<div>\n",
       "<style scoped>\n",
       "    .dataframe tbody tr th:only-of-type {\n",
       "        vertical-align: middle;\n",
       "    }\n",
       "\n",
       "    .dataframe tbody tr th {\n",
       "        vertical-align: top;\n",
       "    }\n",
       "\n",
       "    .dataframe thead th {\n",
       "        text-align: right;\n",
       "    }\n",
       "</style>\n",
       "<table border=\"1\" class=\"dataframe\">\n",
       "  <thead>\n",
       "    <tr style=\"text-align: right;\">\n",
       "      <th></th>\n",
       "      <th>polarity</th>\n",
       "      <th>id</th>\n",
       "      <th>date</th>\n",
       "      <th>flag</th>\n",
       "      <th>user</th>\n",
       "      <th>tweet</th>\n",
       "    </tr>\n",
       "  </thead>\n",
       "  <tbody>\n",
       "    <tr>\n",
       "      <th>0</th>\n",
       "      <td>4</td>\n",
       "      <td>3</td>\n",
       "      <td>Mon May 11 03:17:40 UTC 2009</td>\n",
       "      <td>kindle2</td>\n",
       "      <td>tpryan</td>\n",
       "      <td>@stellargirl I loooooooovvvvvveee my Kindle2. ...</td>\n",
       "    </tr>\n",
       "    <tr>\n",
       "      <th>1</th>\n",
       "      <td>4</td>\n",
       "      <td>4</td>\n",
       "      <td>Mon May 11 03:18:03 UTC 2009</td>\n",
       "      <td>kindle2</td>\n",
       "      <td>vcu451</td>\n",
       "      <td>Reading my kindle2...  Love it... Lee childs i...</td>\n",
       "    </tr>\n",
       "    <tr>\n",
       "      <th>2</th>\n",
       "      <td>4</td>\n",
       "      <td>5</td>\n",
       "      <td>Mon May 11 03:18:54 UTC 2009</td>\n",
       "      <td>kindle2</td>\n",
       "      <td>chadfu</td>\n",
       "      <td>Ok, first assesment of the #kindle2 ...it fuck...</td>\n",
       "    </tr>\n",
       "    <tr>\n",
       "      <th>3</th>\n",
       "      <td>4</td>\n",
       "      <td>6</td>\n",
       "      <td>Mon May 11 03:19:04 UTC 2009</td>\n",
       "      <td>kindle2</td>\n",
       "      <td>SIX15</td>\n",
       "      <td>@kenburbary You'll love your Kindle2. I've had...</td>\n",
       "    </tr>\n",
       "    <tr>\n",
       "      <th>4</th>\n",
       "      <td>4</td>\n",
       "      <td>7</td>\n",
       "      <td>Mon May 11 03:21:41 UTC 2009</td>\n",
       "      <td>kindle2</td>\n",
       "      <td>yamarama</td>\n",
       "      <td>@mikefish  Fair enough. But i have the Kindle2...</td>\n",
       "    </tr>\n",
       "  </tbody>\n",
       "</table>\n",
       "</div>"
      ],
      "text/plain": [
       "   polarity  id                          date     flag      user  \\\n",
       "0         4   3  Mon May 11 03:17:40 UTC 2009  kindle2    tpryan   \n",
       "1         4   4  Mon May 11 03:18:03 UTC 2009  kindle2    vcu451   \n",
       "2         4   5  Mon May 11 03:18:54 UTC 2009  kindle2    chadfu   \n",
       "3         4   6  Mon May 11 03:19:04 UTC 2009  kindle2     SIX15   \n",
       "4         4   7  Mon May 11 03:21:41 UTC 2009  kindle2  yamarama   \n",
       "\n",
       "                                               tweet  \n",
       "0  @stellargirl I loooooooovvvvvveee my Kindle2. ...  \n",
       "1  Reading my kindle2...  Love it... Lee childs i...  \n",
       "2  Ok, first assesment of the #kindle2 ...it fuck...  \n",
       "3  @kenburbary You'll love your Kindle2. I've had...  \n",
       "4  @mikefish  Fair enough. But i have the Kindle2...  "
      ]
     },
     "execution_count": 45,
     "metadata": {},
     "output_type": "execute_result"
    }
   ],
   "source": [
    "df2=pd.read_csv('testdata.manual.2009.06.14.csv',encoding='latin', header=None, \n",
    "                 names=[\"polarity\", \"id\", \"date\", \"flag\", \"user\", \"tweet\"])\n",
    "df2.head()"
   ]
  },
  {
   "cell_type": "code",
   "execution_count": 46,
   "metadata": {
    "colab": {
     "base_uri": "https://localhost:8080/",
     "height": 206
    },
    "id": "P3902Be_TdYN",
    "outputId": "8362c198-baa0-40ca-94d4-7a256e37ffcf"
   },
   "outputs": [
    {
     "data": {
      "text/html": [
       "<div>\n",
       "<style scoped>\n",
       "    .dataframe tbody tr th:only-of-type {\n",
       "        vertical-align: middle;\n",
       "    }\n",
       "\n",
       "    .dataframe tbody tr th {\n",
       "        vertical-align: top;\n",
       "    }\n",
       "\n",
       "    .dataframe thead th {\n",
       "        text-align: right;\n",
       "    }\n",
       "</style>\n",
       "<table border=\"1\" class=\"dataframe\">\n",
       "  <thead>\n",
       "    <tr style=\"text-align: right;\">\n",
       "      <th></th>\n",
       "      <th>polarity</th>\n",
       "      <th>tweet</th>\n",
       "    </tr>\n",
       "  </thead>\n",
       "  <tbody>\n",
       "    <tr>\n",
       "      <th>0</th>\n",
       "      <td>4</td>\n",
       "      <td>@stellargirl I loooooooovvvvvveee my Kindle2. ...</td>\n",
       "    </tr>\n",
       "    <tr>\n",
       "      <th>1</th>\n",
       "      <td>4</td>\n",
       "      <td>Reading my kindle2...  Love it... Lee childs i...</td>\n",
       "    </tr>\n",
       "    <tr>\n",
       "      <th>2</th>\n",
       "      <td>4</td>\n",
       "      <td>Ok, first assesment of the #kindle2 ...it fuck...</td>\n",
       "    </tr>\n",
       "    <tr>\n",
       "      <th>3</th>\n",
       "      <td>4</td>\n",
       "      <td>@kenburbary You'll love your Kindle2. I've had...</td>\n",
       "    </tr>\n",
       "    <tr>\n",
       "      <th>4</th>\n",
       "      <td>4</td>\n",
       "      <td>@mikefish  Fair enough. But i have the Kindle2...</td>\n",
       "    </tr>\n",
       "  </tbody>\n",
       "</table>\n",
       "</div>"
      ],
      "text/plain": [
       "   polarity                                              tweet\n",
       "0         4  @stellargirl I loooooooovvvvvveee my Kindle2. ...\n",
       "1         4  Reading my kindle2...  Love it... Lee childs i...\n",
       "2         4  Ok, first assesment of the #kindle2 ...it fuck...\n",
       "3         4  @kenburbary You'll love your Kindle2. I've had...\n",
       "4         4  @mikefish  Fair enough. But i have the Kindle2..."
      ]
     },
     "execution_count": 46,
     "metadata": {},
     "output_type": "execute_result"
    }
   ],
   "source": [
    "# Remove Unnecessary columns\n",
    "tweet_test_df = df2.drop([\"id\",\"flag\",\"date\",\"user\"], axis = 1)\n",
    "tweet_test_df.head()"
   ]
  },
  {
   "cell_type": "code",
   "execution_count": 47,
   "metadata": {
    "id": "lQCOrSkLpAGM"
   },
   "outputs": [],
   "source": [
    "\n",
    "tweet_test_df = tweet_test_df[tweet_test_df.polarity !=2]"
   ]
  },
  {
   "cell_type": "code",
   "execution_count": 48,
   "metadata": {
    "colab": {
     "base_uri": "https://localhost:8080/",
     "height": 423
    },
    "id": "9QO__9IHt-ds",
    "outputId": "9ef1396e-1448-4a4d-a714-0b44860b0c32"
   },
   "outputs": [
    {
     "data": {
      "text/html": [
       "<div>\n",
       "<style scoped>\n",
       "    .dataframe tbody tr th:only-of-type {\n",
       "        vertical-align: middle;\n",
       "    }\n",
       "\n",
       "    .dataframe tbody tr th {\n",
       "        vertical-align: top;\n",
       "    }\n",
       "\n",
       "    .dataframe thead th {\n",
       "        text-align: right;\n",
       "    }\n",
       "</style>\n",
       "<table border=\"1\" class=\"dataframe\">\n",
       "  <thead>\n",
       "    <tr style=\"text-align: right;\">\n",
       "      <th></th>\n",
       "      <th>polarity</th>\n",
       "      <th>tweet</th>\n",
       "    </tr>\n",
       "  </thead>\n",
       "  <tbody>\n",
       "    <tr>\n",
       "      <th>0</th>\n",
       "      <td>4</td>\n",
       "      <td>@stellargirl I loooooooovvvvvveee my Kindle2. ...</td>\n",
       "    </tr>\n",
       "    <tr>\n",
       "      <th>1</th>\n",
       "      <td>4</td>\n",
       "      <td>Reading my kindle2...  Love it... Lee childs i...</td>\n",
       "    </tr>\n",
       "    <tr>\n",
       "      <th>2</th>\n",
       "      <td>4</td>\n",
       "      <td>Ok, first assesment of the #kindle2 ...it fuck...</td>\n",
       "    </tr>\n",
       "    <tr>\n",
       "      <th>3</th>\n",
       "      <td>4</td>\n",
       "      <td>@kenburbary You'll love your Kindle2. I've had...</td>\n",
       "    </tr>\n",
       "    <tr>\n",
       "      <th>4</th>\n",
       "      <td>4</td>\n",
       "      <td>@mikefish  Fair enough. But i have the Kindle2...</td>\n",
       "    </tr>\n",
       "    <tr>\n",
       "      <th>...</th>\n",
       "      <td>...</td>\n",
       "      <td>...</td>\n",
       "    </tr>\n",
       "    <tr>\n",
       "      <th>492</th>\n",
       "      <td>4</td>\n",
       "      <td>After using LaTeX a lot, any other typeset mat...</td>\n",
       "    </tr>\n",
       "    <tr>\n",
       "      <th>494</th>\n",
       "      <td>0</td>\n",
       "      <td>On that note, I hate Word. I hate Pages. I hat...</td>\n",
       "    </tr>\n",
       "    <tr>\n",
       "      <th>495</th>\n",
       "      <td>4</td>\n",
       "      <td>Ahhh... back in a *real* text editing environm...</td>\n",
       "    </tr>\n",
       "    <tr>\n",
       "      <th>496</th>\n",
       "      <td>0</td>\n",
       "      <td>Trouble in Iran, I see. Hmm. Iran. Iran so far...</td>\n",
       "    </tr>\n",
       "    <tr>\n",
       "      <th>497</th>\n",
       "      <td>0</td>\n",
       "      <td>Reading the tweets coming out of Iran... The w...</td>\n",
       "    </tr>\n",
       "  </tbody>\n",
       "</table>\n",
       "<p>359 rows × 2 columns</p>\n",
       "</div>"
      ],
      "text/plain": [
       "     polarity                                              tweet\n",
       "0           4  @stellargirl I loooooooovvvvvveee my Kindle2. ...\n",
       "1           4  Reading my kindle2...  Love it... Lee childs i...\n",
       "2           4  Ok, first assesment of the #kindle2 ...it fuck...\n",
       "3           4  @kenburbary You'll love your Kindle2. I've had...\n",
       "4           4  @mikefish  Fair enough. But i have the Kindle2...\n",
       "..        ...                                                ...\n",
       "492         4  After using LaTeX a lot, any other typeset mat...\n",
       "494         0  On that note, I hate Word. I hate Pages. I hat...\n",
       "495         4  Ahhh... back in a *real* text editing environm...\n",
       "496         0  Trouble in Iran, I see. Hmm. Iran. Iran so far...\n",
       "497         0  Reading the tweets coming out of Iran... The w...\n",
       "\n",
       "[359 rows x 2 columns]"
      ]
     },
     "execution_count": 48,
     "metadata": {},
     "output_type": "execute_result"
    }
   ],
   "source": [
    "tweet_test_df"
   ]
  },
  {
   "cell_type": "code",
   "execution_count": 49,
   "metadata": {
    "colab": {
     "base_uri": "https://localhost:8080/"
    },
    "id": "tvY9T8WLT3Cr",
    "outputId": "9176c706-6e01-4d4d-ebe4-37c4b4a03534"
   },
   "outputs": [
    {
     "data": {
      "text/plain": [
       "(array([0, 4], dtype=int64), array([177, 182], dtype=int64))"
      ]
     },
     "execution_count": 49,
     "metadata": {},
     "output_type": "execute_result"
    }
   ],
   "source": [
    "targets3, frequency3 = np.unique(tweet_test_df.polarity, return_counts=True)\n",
    "targets3, frequency3"
   ]
  },
  {
   "cell_type": "code",
   "execution_count": 50,
   "metadata": {
    "colab": {
     "base_uri": "https://localhost:8080/",
     "height": 292
    },
    "id": "QYSL2TuIUR2q",
    "outputId": "c0abbbce-753f-46ca-dab1-ca3344386e2c"
   },
   "outputs": [
    {
     "data": {
      "image/png": "[encoded data removed]",
      "text/plain": [
       "<Figure size 432x288 with 1 Axes>"
      ]
     },
     "metadata": {
      "needs_background": "light"
     },
     "output_type": "display_data"
    }
   ],
   "source": [
    "# Training data class distribution\n",
    "fig=plt.figure( )\n",
    "plt.bar(targets3,frequency3)\n",
    "plt.xticks(rotation=90)\n",
    "plt.title('Class distribution of Sentiment140 test dataset ')\n",
    "plt.xlabel('polarity')\n",
    "plt.ylabel('Frequency')\n",
    "plt.show()"
   ]
  },
  {
   "cell_type": "code",
   "execution_count": 51,
   "metadata": {
    "colab": {
     "base_uri": "https://localhost:8080/",
     "height": 206
    },
    "id": "a8xo2eorUgRZ",
    "outputId": "e8e011c2-b3e2-470c-a690-e6717dd827d3"
   },
   "outputs": [
    {
     "data": {
      "text/html": [
       "<div>\n",
       "<style scoped>\n",
       "    .dataframe tbody tr th:only-of-type {\n",
       "        vertical-align: middle;\n",
       "    }\n",
       "\n",
       "    .dataframe tbody tr th {\n",
       "        vertical-align: top;\n",
       "    }\n",
       "\n",
       "    .dataframe thead th {\n",
       "        text-align: right;\n",
       "    }\n",
       "</style>\n",
       "<table border=\"1\" class=\"dataframe\">\n",
       "  <thead>\n",
       "    <tr style=\"text-align: right;\">\n",
       "      <th></th>\n",
       "      <th>polarity</th>\n",
       "      <th>tweet</th>\n",
       "    </tr>\n",
       "  </thead>\n",
       "  <tbody>\n",
       "    <tr>\n",
       "      <th>0</th>\n",
       "      <td>4</td>\n",
       "      <td>stellargirl i loooooooovvvvvveee my    not th...</td>\n",
       "    </tr>\n",
       "    <tr>\n",
       "      <th>1</th>\n",
       "      <td>4</td>\n",
       "      <td>reading my       love it    lee childs is good...</td>\n",
       "    </tr>\n",
       "    <tr>\n",
       "      <th>2</th>\n",
       "      <td>4</td>\n",
       "      <td>ok  first assesment of the       it fucking ro...</td>\n",
       "    </tr>\n",
       "    <tr>\n",
       "      <th>3</th>\n",
       "      <td>4</td>\n",
       "      <td>kenburbary you ll love your    i ve had mine ...</td>\n",
       "    </tr>\n",
       "    <tr>\n",
       "      <th>4</th>\n",
       "      <td>4</td>\n",
       "      <td>mikefish  fair enough  but i have the   and i...</td>\n",
       "    </tr>\n",
       "  </tbody>\n",
       "</table>\n",
       "</div>"
      ],
      "text/plain": [
       "   polarity                                              tweet\n",
       "0         4   stellargirl i loooooooovvvvvveee my    not th...\n",
       "1         4  reading my       love it    lee childs is good...\n",
       "2         4  ok  first assesment of the       it fucking ro...\n",
       "3         4   kenburbary you ll love your    i ve had mine ...\n",
       "4         4   mikefish  fair enough  but i have the   and i..."
      ]
     },
     "execution_count": 51,
     "metadata": {},
     "output_type": "execute_result"
    }
   ],
   "source": [
    "# Text preprocessing steps - remove numbers, captial letters and punctuation\n",
    "\n",
    "alphanumeric = lambda x: re.sub(r\"\"\"\\w*\\d\\w*\"\"\", ' ', x)\n",
    "punc_lower = lambda x: re.sub('[%s]' % re.escape(string.punctuation), ' ', x.lower())\n",
    "\n",
    "tweet_test_df['tweet'] = tweet_test_df.tweet.map(alphanumeric).map(punc_lower)\n",
    "tweet_test_df.head()"
   ]
  },
  {
   "cell_type": "markdown",
   "metadata": {
    "id": "uDlYDJmvUvUA"
   },
   "source": [
    "**Count Vectorizer**"
   ]
  },
  {
   "cell_type": "code",
   "execution_count": 52,
   "metadata": {
    "id": "zFjnCDspUsIA"
   },
   "outputs": [],
   "source": [
    "from sklearn.feature_extraction.text import CountVectorizer\n",
    "\n",
    "count_vect = CountVectorizer()\n",
    "\n",
    "X_train2_cv = count_vect.fit_transform(tweet_train_df.tweet)  # fit_transform learns the vocab and one-hot encodes\n",
    "X_test2_cv = count_vect.transform(tweet_test_df.tweet) # transform uses the same vocab and one-hot encodes\n",
    "\n"
   ]
  },
  {
   "cell_type": "markdown",
   "metadata": {
    "id": "E4KFKYgykLF3"
   },
   "source": [
    "**TF-IDF Vectorizer**\n"
   ]
  },
  {
   "cell_type": "code",
   "execution_count": 53,
   "metadata": {
    "id": "Y-wfG7JRkGFA"
   },
   "outputs": [],
   "source": [
    "# Creating a document-term matrix using TF-IDF\n",
    "from sklearn.feature_extraction.text import TfidfVectorizer\n",
    "\n",
    "tfidfV = TfidfVectorizer() \n",
    "\n",
    "X_train2_tfidfV = tfidfV.fit_transform(tweet_train_df.tweet) # fit_transform learns the vocab and one-hot encodes \n",
    "X_test2_tfidfV = tfidfV.transform(tweet_test_df.tweet) # transform uses the same vocab and one-hot encodes \n",
    "\n"
   ]
  },
  {
   "cell_type": "code",
   "execution_count": 54,
   "metadata": {},
   "outputs": [
    {
     "data": {
      "text/plain": [
       "array([0, 4], dtype=int64)"
      ]
     },
     "execution_count": 54,
     "metadata": {},
     "output_type": "execute_result"
    }
   ],
   "source": [
    "np.unique(tweet_train_df.polarity)"
   ]
  },
  {
   "cell_type": "markdown",
   "metadata": {
    "id": "obgrjtnSklvZ"
   },
   "source": [
    "**logestic regression**"
   ]
  },
  {
   "cell_type": "code",
   "execution_count": 55,
   "metadata": {},
   "outputs": [],
   "source": [
    "from sklearn.utils import shuffle\n",
    "data = np.asarray(tweet_train_df.tweet)\n",
    "label = np.asarray(tweet_train_df.polarity)\n",
    "x_test = tweet_test_df.tweet\n",
    "X,Y = shuffle(data,label)\n",
    "per=0.8"
   ]
  },
  {
   "cell_type": "code",
   "execution_count": null,
   "metadata": {},
   "outputs": [],
   "source": [
    "y_true = tweet_test_df.polarity\n",
    "a = accuracy_score(np.asarray(pred_1),y_true)"
   ]
  },
  {
   "cell_type": "code",
   "execution_count": null,
   "metadata": {},
   "outputs": [],
   "source": [
    "a "
   ]
  },
  {
   "cell_type": "code",
   "execution_count": null,
   "metadata": {
    "scrolled": true
   },
   "outputs": [],
   "source": [
    "per = 10\n",
    "reg_train = []\n",
    "reg_test = []\n",
    "for i in range(10):\n",
    "    val_acu, pred_1 , pred_2 = crossval(5,X[:int(len(tweet_train_df.polarity))],'KNN',Y[:int(len(tweet_train_df.polarity))],tweet_test_df.tweet,per)\n",
    "    reg_train.append(pred_2)\n",
    "    y_true = tweet_test_df.polarity\n",
    "    a = accuracy_score(np.asarray(pred_1),y_true)\n",
    "    reg_test.append(a)\n",
    "    per = per + 10"
   ]
  },
  {
   "cell_type": "code",
   "execution_count": null,
   "metadata": {
    "scrolled": true
   },
   "outputs": [],
   "source": [
    "print(reg_test)\n",
    "print(reg_train)\n"
   ]
  },
  {
   "cell_type": "code",
   "execution_count": 373,
   "metadata": {
    "colab": {
     "base_uri": "https://localhost:8080/"
    },
    "id": "8lwuvF3zkdEK",
    "outputId": "0652661b-6444-409e-e9bf-88e46d41fe61"
   },
   "outputs": [
    {
     "name": "stderr",
     "output_type": "stream",
     "text": [
      "C:\\Users\\Prateek Jeet Singh\\anaconda3\\lib\\site-packages\\sklearn\\linear_model\\_logistic.py:763: ConvergenceWarning: lbfgs failed to converge (status=1):\n",
      "STOP: TOTAL NO. of ITERATIONS REACHED LIMIT.\n",
      "\n",
      "Increase the number of iterations (max_iter) or scale the data as shown in:\n",
      "    https://scikit-learn.org/stable/modules/preprocessing.html\n",
      "Please also refer to the documentation for alternative solver options:\n",
      "    https://scikit-learn.org/stable/modules/linear_model.html#logistic-regression\n",
      "  n_iter_i = _check_optimize_result(\n"
     ]
    },
    {
     "name": "stdout",
     "output_type": "stream",
     "text": [
      "0.82357\n"
     ]
    }
   ],
   "source": [
    "# Performance LR Classifier \n",
    "text_clf = Pipeline([ ('vect', TfidfVectorizer(sublinear_tf=True)), ('clf', LogisticRegression())])  \n",
    "text_clf.fit(tweet_train_df.tweet, tweet_train_df.polarity)\n",
    "print(text_clf.score(tweet_train_df.tweet, tweet_train_df.polarity))"
   ]
  },
  {
   "cell_type": "markdown",
   "metadata": {
    "id": "_wpHCUf1lfEX"
   },
   "source": [
    "Finding best parameters of LR"
   ]
  },
  {
   "cell_type": "code",
   "execution_count": null,
   "metadata": {
    "colab": {
     "base_uri": "https://localhost:8080/"
    },
    "id": "tRzled8QlgQO",
    "outputId": "d353a894-0406-4d0d-d387-dc09379df79b"
   },
   "outputs": [
    {
     "name": "stderr",
     "output_type": "stream",
     "text": [
      "/usr/local/lib/python3.7/dist-packages/sklearn/linear_model/_logistic.py:818: ConvergenceWarning: lbfgs failed to converge (status=1):\n",
      "STOP: TOTAL NO. of ITERATIONS REACHED LIMIT.\n",
      "\n",
      "Increase the number of iterations (max_iter) or scale the data as shown in:\n",
      "    https://scikit-learn.org/stable/modules/preprocessing.html\n",
      "Please also refer to the documentation for alternative solver options:\n",
      "    https://scikit-learn.org/stable/modules/linear_model.html#logistic-regression\n",
      "  extra_warning_msg=_LOGISTIC_SOLVER_CONVERGENCE_MSG,\n",
      "/usr/local/lib/python3.7/dist-packages/sklearn/linear_model/_logistic.py:818: ConvergenceWarning: lbfgs failed to converge (status=1):\n",
      "STOP: TOTAL NO. of ITERATIONS REACHED LIMIT.\n",
      "\n",
      "Increase the number of iterations (max_iter) or scale the data as shown in:\n",
      "    https://scikit-learn.org/stable/modules/preprocessing.html\n",
      "Please also refer to the documentation for alternative solver options:\n",
      "    https://scikit-learn.org/stable/modules/linear_model.html#logistic-regression\n",
      "  extra_warning_msg=_LOGISTIC_SOLVER_CONVERGENCE_MSG,\n",
      "/usr/local/lib/python3.7/dist-packages/sklearn/linear_model/_logistic.py:818: ConvergenceWarning: lbfgs failed to converge (status=1):\n",
      "STOP: TOTAL NO. of ITERATIONS REACHED LIMIT.\n",
      "\n",
      "Increase the number of iterations (max_iter) or scale the data as shown in:\n",
      "    https://scikit-learn.org/stable/modules/preprocessing.html\n",
      "Please also refer to the documentation for alternative solver options:\n",
      "    https://scikit-learn.org/stable/modules/linear_model.html#logistic-regression\n",
      "  extra_warning_msg=_LOGISTIC_SOLVER_CONVERGENCE_MSG,\n",
      "/usr/local/lib/python3.7/dist-packages/sklearn/linear_model/_logistic.py:818: ConvergenceWarning: lbfgs failed to converge (status=1):\n",
      "STOP: TOTAL NO. of ITERATIONS REACHED LIMIT.\n",
      "\n",
      "Increase the number of iterations (max_iter) or scale the data as shown in:\n",
      "    https://scikit-learn.org/stable/modules/preprocessing.html\n",
      "Please also refer to the documentation for alternative solver options:\n",
      "    https://scikit-learn.org/stable/modules/linear_model.html#logistic-regression\n",
      "  extra_warning_msg=_LOGISTIC_SOLVER_CONVERGENCE_MSG,\n",
      "/usr/local/lib/python3.7/dist-packages/sklearn/linear_model/_logistic.py:818: ConvergenceWarning: lbfgs failed to converge (status=1):\n",
      "STOP: TOTAL NO. of ITERATIONS REACHED LIMIT.\n",
      "\n",
      "Increase the number of iterations (max_iter) or scale the data as shown in:\n",
      "    https://scikit-learn.org/stable/modules/preprocessing.html\n",
      "Please also refer to the documentation for alternative solver options:\n",
      "    https://scikit-learn.org/stable/modules/linear_model.html#logistic-regression\n",
      "  extra_warning_msg=_LOGISTIC_SOLVER_CONVERGENCE_MSG,\n",
      "/usr/local/lib/python3.7/dist-packages/sklearn/model_selection/_validation.py:372: FitFailedWarning: \n",
      "5 fits failed out of a total of 10.\n",
      "The score on these train-test partitions for these parameters will be set to nan.\n",
      "If these failures are not expected, you can try to debug them by setting error_score='raise'.\n",
      "\n",
      "Below are more details about the failures:\n",
      "--------------------------------------------------------------------------------\n",
      "5 fits failed with the following error:\n",
      "Traceback (most recent call last):\n",
      "  File \"/usr/local/lib/python3.7/dist-packages/sklearn/model_selection/_validation.py\", line 680, in _fit_and_score\n",
      "    estimator.fit(X_train, y_train, **fit_params)\n",
      "  File \"/usr/local/lib/python3.7/dist-packages/sklearn/pipeline.py\", line 394, in fit\n",
      "    self._final_estimator.fit(Xt, y, **fit_params_last_step)\n",
      "  File \"/usr/local/lib/python3.7/dist-packages/sklearn/linear_model/_logistic.py\", line 1461, in fit\n",
      "    solver = _check_solver(self.solver, self.penalty, self.dual)\n",
      "  File \"/usr/local/lib/python3.7/dist-packages/sklearn/linear_model/_logistic.py\", line 449, in _check_solver\n",
      "    % (solver, penalty)\n",
      "ValueError: Solver lbfgs supports only 'l2' or 'none' penalties, got l1 penalty.\n",
      "\n",
      "  warnings.warn(some_fits_failed_message, FitFailedWarning)\n",
      "/usr/local/lib/python3.7/dist-packages/sklearn/model_selection/_search.py:972: UserWarning: One or more of the test scores are non-finite: [      nan 0.7956975]\n",
      "  category=UserWarning,\n",
      "/usr/local/lib/python3.7/dist-packages/sklearn/linear_model/_logistic.py:818: ConvergenceWarning: lbfgs failed to converge (status=1):\n",
      "STOP: TOTAL NO. of ITERATIONS REACHED LIMIT.\n",
      "\n",
      "Increase the number of iterations (max_iter) or scale the data as shown in:\n",
      "    https://scikit-learn.org/stable/modules/preprocessing.html\n",
      "Please also refer to the documentation for alternative solver options:\n",
      "    https://scikit-learn.org/stable/modules/linear_model.html#logistic-regression\n",
      "  extra_warning_msg=_LOGISTIC_SOLVER_CONVERGENCE_MSG,\n"
     ]
    },
    {
     "data": {
      "text/plain": [
       "GridSearchCV(estimator=Pipeline(steps=[('vect',\n",
       "                                        TfidfVectorizer(sublinear_tf=True)),\n",
       "                                       ('clf', LogisticRegression())]),\n",
       "             param_grid={'clf__penalty': ('l1', 'l2')})"
      ]
     },
     "execution_count": 105,
     "metadata": {},
     "output_type": "execute_result"
    }
   ],
   "source": [
    "pipeline = Pipeline([('vect', TfidfVectorizer(sublinear_tf=True)), ('clf', LogisticRegression())])  \n",
    "\n",
    "parameters = {'clf__penalty': ('l1', 'l2')}\n",
    "\n",
    "grid_search = GridSearchCV(pipeline, parameters)\n",
    "grid_search.fit(tweet_train_df.tweet, tweet_train_df.polarity)"
   ]
  },
  {
   "cell_type": "code",
   "execution_count": null,
   "metadata": {
    "colab": {
     "base_uri": "https://localhost:8080/"
    },
    "id": "tf3H8RgAl-LZ",
    "outputId": "64ffb5c5-cfd8-42f1-a352-7c671b03ccfd"
   },
   "outputs": [
    {
     "name": "stdout",
     "output_type": "stream",
     "text": [
      "Best training score 0.7957\n"
     ]
    }
   ],
   "source": [
    "print('Best training score %0.4f' % grid_search.best_score_)"
   ]
  },
  {
   "cell_type": "code",
   "execution_count": null,
   "metadata": {
    "colab": {
     "base_uri": "https://localhost:8080/"
    },
    "id": "YY_AB8GqmGpz",
    "outputId": "ee684c41-8a03-49d3-f4dd-972fafd39a5a"
   },
   "outputs": [
    {
     "name": "stdout",
     "output_type": "stream",
     "text": [
      "Best parameters = \n",
      "clf__penalty: 'l2'\n"
     ]
    }
   ],
   "source": [
    "print('Best parameters = ')\n",
    "best_parameters = grid_search.best_estimator_.get_params()\n",
    "for param_name in sorted(parameters.keys()):\n",
    "    print(\"%s: %r\" % (param_name, best_parameters[param_name]))"
   ]
  },
  {
   "cell_type": "code",
   "execution_count": null,
   "metadata": {
    "colab": {
     "base_uri": "https://localhost:8080/"
    },
    "id": "woBplW6WmOLO",
    "outputId": "d47c9a08-f462-4ba5-9163-3f2cf45d3dd5"
   },
   "outputs": [
    {
     "data": {
      "text/plain": [
       "0.8189415041782729"
      ]
     },
     "execution_count": 108,
     "metadata": {},
     "output_type": "execute_result"
    }
   ],
   "source": [
    "# Test Accuracy\n",
    "grid_search.best_estimator_.score(tweet_test_df.tweet, tweet_test_df.polarity)"
   ]
  }
 ],
 "metadata": {
  "colab": {
   "collapsed_sections": [],
   "name": "Arian_mini_proj_2.ipynb",
   "provenance": []
  },
  "kernelspec": {
   "display_name": "Python 3 (ipykernel)",
   "language": "python",
   "name": "python3"
  },
  "language_info": {
   "codemirror_mode": {
    "name": "ipython",
    "version": 3
   },
   "file_extension": ".py",
   "mimetype": "text/x-python",
   "name": "python",
   "nbconvert_exporter": "python",
   "pygments_lexer": "ipython3",
   "version": "3.9.7"
  }
 },
 "nbformat": 4,
 "nbformat_minor": 1
}
